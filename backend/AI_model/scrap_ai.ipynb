{
 "cells": [
  {
   "cell_type": "code",
   "execution_count": 1,
   "metadata": {},
   "outputs": [],
   "source": [
    "import pandas as pd\n",
    "import numpy as np\n",
    "from sklearn.model_selection import train_test_split\n",
    "from sklearn.preprocessing import LabelEncoder\n",
    "from tensorflow.keras.models import Sequential\n",
    "from tensorflow.keras.layers import Dense\n",
    "from tensorflow.keras.utils import to_categorical\n",
    "from sklearn.metrics import accuracy_score\n",
    "import joblib\n",
    "import pickle"
   ]
  },
  {
   "cell_type": "code",
   "execution_count": 2,
   "metadata": {},
   "outputs": [],
   "source": [
    "final_dataset = pd.read_csv(\"final_dataset.csv\")\n",
    "labeled_dataset = pd.read_csv(\"labeled_dataset.csv\")"
   ]
  },
  {
   "cell_type": "code",
   "execution_count": 3,
   "metadata": {},
   "outputs": [
    {
     "name": "stdout",
     "output_type": "stream",
     "text": [
      "Is there any missing value?  True\n",
      "How many missing values?  15774\n",
      "Number of participants after eliminating missing values:  34376\n",
      "Number of participants after eliminating missing values:  22\n"
     ]
    }
   ],
   "source": [
    "print('Is there any missing value? ', final_dataset.isnull().values.any())\n",
    "print('How many missing values? ', final_dataset.isnull().values.sum())\n",
    "final_dataset.dropna(inplace=True)\n",
    "print('Number of participants after eliminating missing values: ', len(final_dataset))\n",
    "labeled_dataset.dropna(inplace=True)\n",
    "print('Number of participants after eliminating missing values: ', len(labeled_dataset))"
   ]
  },
  {
   "cell_type": "code",
   "execution_count": 4,
   "metadata": {},
   "outputs": [],
   "source": [
    "X_train = final_dataset.drop(\"Job Domain:\", axis=1)\n",
    "y_train = final_dataset[\"Job Domain:\"]\n",
    "X_test = labeled_dataset.drop(\"Job Domain:\", axis=1)\n",
    "y_test = labeled_dataset[\"Job Domain:\"]"
   ]
  },
  {
   "cell_type": "code",
   "execution_count": 5,
   "metadata": {},
   "outputs": [
    {
     "data": {
      "text/plain": [
       "array([1, 1, 6, ..., 5, 0, 5])"
      ]
     },
     "execution_count": 5,
     "metadata": {},
     "output_type": "execute_result"
    }
   ],
   "source": [
    "encoder = LabelEncoder()\n",
    "y_train = encoder.fit_transform(y_train)\n",
    "y_test = encoder.fit_transform(y_test)\n",
    "y_train"
   ]
  },
  {
   "cell_type": "code",
   "execution_count": 6,
   "metadata": {},
   "outputs": [],
   "source": [
    "model = Sequential([\n",
    "    Dense(64, activation=\"relu\", input_shape=(X_train.shape[1],)),\n",
    "    Dense(32, activation=\"relu\"),\n",
    "    Dense(1, activation=\"softmax\")  # Output layer for multiple categories\n",
    "])"
   ]
  },
  {
   "cell_type": "code",
   "execution_count": 7,
   "metadata": {},
   "outputs": [
    {
     "name": "stdout",
     "output_type": "stream",
     "text": [
      "Epoch 1/10\n",
      "1075/1075 [==============================] - 2s 2ms/step - loss: 2.8923 - accuracy: 0.1527\n",
      "Epoch 2/10\n",
      "1075/1075 [==============================] - 2s 1ms/step - loss: 2.8923 - accuracy: 0.1527\n",
      "Epoch 3/10\n",
      "1075/1075 [==============================] - 1s 1ms/step - loss: 2.8923 - accuracy: 0.1527\n",
      "Epoch 4/10\n",
      "1075/1075 [==============================] - 1s 1ms/step - loss: 2.8923 - accuracy: 0.1527\n",
      "Epoch 5/10\n",
      "1075/1075 [==============================] - 1s 1ms/step - loss: 2.8923 - accuracy: 0.1527\n",
      "Epoch 6/10\n",
      "1075/1075 [==============================] - 1s 1ms/step - loss: 2.8923 - accuracy: 0.1527\n",
      "Epoch 7/10\n",
      "1075/1075 [==============================] - 1s 1ms/step - loss: 2.8923 - accuracy: 0.1527\n",
      "Epoch 8/10\n",
      "1075/1075 [==============================] - 1s 1ms/step - loss: 2.8923 - accuracy: 0.1527\n",
      "Epoch 9/10\n",
      "1075/1075 [==============================] - 1s 1ms/step - loss: 2.8923 - accuracy: 0.1527\n",
      "Epoch 10/10\n",
      "1075/1075 [==============================] - 1s 1ms/step - loss: 2.8923 - accuracy: 0.1527\n"
     ]
    },
    {
     "data": {
      "text/plain": [
       "<keras.src.callbacks.History at 0x2c78bca4590>"
      ]
     },
     "execution_count": 7,
     "metadata": {},
     "output_type": "execute_result"
    }
   ],
   "source": [
    "model.compile(loss=\"MAE\", optimizer=\"adam\", metrics=[\"accuracy\"])\n",
    "model.fit(X_train, y_train, epochs=10, batch_size=32)"
   ]
  },
  {
   "cell_type": "code",
   "execution_count": 8,
   "metadata": {},
   "outputs": [
    {
     "name": "stdout",
     "output_type": "stream",
     "text": [
      "1/1 [==============================] - 0s 74ms/step\n",
      "Test Accuracy: 0.13636363636363635\n"
     ]
    }
   ],
   "source": [
    "y_pred = model.predict(X_test)\n",
    "y_pred_classes = np.argmax(y_pred, axis=1)\n",
    "accuracy = accuracy_score(y_test, y_pred_classes)\n",
    "print(f\"Test Accuracy: {accuracy}\")"
   ]
  },
  {
   "cell_type": "code",
   "execution_count": 9,
   "metadata": {},
   "outputs": [
    {
     "name": "stderr",
     "output_type": "stream",
     "text": [
      "C:\\Users\\Krishna Kumar\\AppData\\Roaming\\Python\\Python311\\site-packages\\keras\\src\\engine\\training.py:3079: UserWarning: You are saving your model as an HDF5 file via `model.save()`. This file format is considered legacy. We recommend using instead the native Keras format, e.g. `model.save('my_model.keras')`.\n",
      "  saving_api.save_model(\n"
     ]
    }
   ],
   "source": [
    "model.save(\"personality_model.h5\")\n",
    "\n",
    "with open(\"label_encoder.pkl\", \"wb\") as f:\n",
    "    pickle.dump(encoder, f)"
   ]
  }
 ],
 "metadata": {
  "kernelspec": {
   "display_name": "Python 3",
   "language": "python",
   "name": "python3"
  },
  "language_info": {
   "codemirror_mode": {
    "name": "ipython",
    "version": 3
   },
   "file_extension": ".py",
   "mimetype": "text/x-python",
   "name": "python",
   "nbconvert_exporter": "python",
   "pygments_lexer": "ipython3",
   "version": "3.11.5"
  }
 },
 "nbformat": 4,
 "nbformat_minor": 2
}
