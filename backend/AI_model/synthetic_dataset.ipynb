{
 "cells": [
  {
   "cell_type": "code",
   "execution_count": 45,
   "metadata": {},
   "outputs": [],
   "source": [
    "import numpy as np\n",
    "import pandas as pd\n",
    "import matplotlib.pyplot as plt\n",
    "import seaborn as sns\n",
    "from sklearn.cluster import KMeans"
   ]
  },
  {
   "cell_type": "code",
   "execution_count": 46,
   "metadata": {},
   "outputs": [],
   "source": [
    "data = pd.read_csv(\"labeled_dataset.csv\")\n",
    "#data.drop('', inplace=True, axis=1)"
   ]
  },
  {
   "cell_type": "code",
   "execution_count": 47,
   "metadata": {},
   "outputs": [
    {
     "name": "stdout",
     "output_type": "stream",
     "text": [
      "Is there any missing value?  True\n",
      "How many missing values?  186358\n",
      "Number of participants after eliminating missing values:  1012050\n"
     ]
    },
    {
     "data": {
      "text/plain": [
       "Index(['EXT1', 'EXT2', 'EXT3', 'EXT4', 'EXT5', 'EXT6', 'EXT7', 'EXT8', 'EXT9',\n",
       "       'EXT10',\n",
       "       ...\n",
       "       'dateload', 'screenw', 'screenh', 'introelapse', 'testelapse',\n",
       "       'endelapse', 'IPC', 'country', 'lat_appx_lots_of_err',\n",
       "       'long_appx_lots_of_err'],\n",
       "      dtype='object', length=110)"
      ]
     },
     "execution_count": 47,
     "metadata": {},
     "output_type": "execute_result"
    }
   ],
   "source": [
    "dataset = pd.read_csv(\"data-final.csv\",delimiter=\"\\t\")\n",
    "print('Is there any missing value? ', dataset.isnull().values.any())\n",
    "print('How many missing values? ', dataset.isnull().values.sum())\n",
    "dataset.dropna(inplace=True)\n",
    "print('Number of participants after eliminating missing values: ', len(dataset))\n",
    "dataset.columns"
   ]
  },
  {
   "cell_type": "code",
   "execution_count": 48,
   "metadata": {},
   "outputs": [
    {
     "name": "stdout",
     "output_type": "stream",
     "text": [
      "         EXT1  EXT2  EXT3  EXT4  EXT5  EXT6  EXT7  EXT8  EXT9  EXT10  ...  \\\n",
      "0         4.0   1.0   5.0   2.0   5.0   1.0   5.0   2.0   4.0    1.0  ...   \n",
      "1         3.0   5.0   3.0   4.0   3.0   3.0   2.0   5.0   1.0    5.0  ...   \n",
      "2         2.0   3.0   4.0   4.0   3.0   2.0   1.0   3.0   2.0    5.0  ...   \n",
      "3         2.0   2.0   2.0   3.0   4.0   2.0   2.0   4.0   1.0    4.0  ...   \n",
      "4         3.0   3.0   3.0   3.0   5.0   3.0   3.0   5.0   3.0    4.0  ...   \n",
      "...       ...   ...   ...   ...   ...   ...   ...   ...   ...    ...  ...   \n",
      "1015336   4.0   2.0   4.0   3.0   4.0   3.0   3.0   3.0   3.0    3.0  ...   \n",
      "1015337   4.0   3.0   4.0   3.0   3.0   3.0   4.0   4.0   3.0    3.0  ...   \n",
      "1015338   4.0   2.0   4.0   3.0   5.0   1.0   4.0   2.0   4.0    4.0  ...   \n",
      "1015339   2.0   4.0   3.0   4.0   2.0   2.0   1.0   4.0   2.0    4.0  ...   \n",
      "1015340   4.0   2.0   4.0   2.0   4.0   1.0   4.0   2.0   4.0    4.0  ...   \n",
      "\n",
      "         OPN1  OPN2  OPN3  OPN4  OPN5  OPN6  OPN7  OPN8  OPN9  OPN10  \n",
      "0         5.0   1.0   4.0   1.0   4.0   1.0   5.0   3.0   4.0    5.0  \n",
      "1         1.0   2.0   4.0   2.0   3.0   1.0   4.0   2.0   5.0    3.0  \n",
      "2         5.0   1.0   2.0   1.0   4.0   2.0   5.0   3.0   4.0    4.0  \n",
      "3         4.0   2.0   5.0   2.0   3.0   1.0   4.0   4.0   3.0    3.0  \n",
      "4         5.0   1.0   5.0   1.0   5.0   1.0   5.0   3.0   5.0    5.0  \n",
      "...       ...   ...   ...   ...   ...   ...   ...   ...   ...    ...  \n",
      "1015336   2.0   2.0   4.0   3.0   4.0   2.0   4.0   2.0   2.0    4.0  \n",
      "1015337   4.0   1.0   5.0   1.0   5.0   1.0   3.0   4.0   5.0    4.0  \n",
      "1015338   5.0   1.0   5.0   1.0   4.0   1.0   5.0   5.0   4.0    5.0  \n",
      "1015339   5.0   2.0   4.0   2.0   3.0   2.0   4.0   5.0   5.0    3.0  \n",
      "1015340   5.0   1.0   5.0   1.0   3.0   1.0   5.0   4.0   5.0    5.0  \n",
      "\n",
      "[1012050 rows x 50 columns]\n"
     ]
    }
   ],
   "source": [
    "keepColumns = ['EXT1', 'EXT2', 'EXT3', 'EXT4', 'EXT5', 'EXT6', 'EXT7', 'EXT8', 'EXT9', 'EXT10', 'AGR1', 'AGR2', 'AGR3', 'AGR4', 'AGR5', 'AGR6', 'AGR7', 'AGR8', 'AGR9', 'AGR10', 'CSN1', 'CSN2', 'CSN3', 'CSN4', 'CSN5', 'CSN6', 'CSN7', 'CSN8', 'CSN9', 'CSN10', 'OPN1', 'OPN2', 'OPN3', 'OPN4', 'OPN5', 'OPN6', 'OPN7', 'OPN8', 'OPN9', 'OPN10', 'EST1', 'EST2', 'EST3', 'EST4', 'EST5', 'EST6', 'EST7', 'EST8', 'EST9', 'EST10']\n",
    "dataset = dataset[[col for col in dataset.columns if col in keepColumns]]\n",
    "print(dataset)"
   ]
  },
  {
   "cell_type": "code",
   "execution_count": 49,
   "metadata": {},
   "outputs": [],
   "source": [
    "# Groups and Questions\n",
    "ext_questions = {'EXT1' : 'I am the life of the party',\n",
    "                 'EXT2' : 'I dont talk a lot',\n",
    "                 'EXT3' : 'I feel comfortable around people',\n",
    "                 'EXT4' : 'I keep in the background',\n",
    "                 'EXT5' : 'I start conversations',\n",
    "                 'EXT6' : 'I have little to say',\n",
    "                 'EXT7' : 'I talk to a lot of different people at parties',\n",
    "                 'EXT8' : 'I dont like to draw attention to myself',\n",
    "                 'EXT9' : 'I dont mind being the center of attention',\n",
    "                 'EXT10': 'I am quiet around strangers'}\n",
    "\n",
    "est_questions = {'EST1' : 'I get stressed out easily',\n",
    "                 'EST2' : 'I am relaxed most of the time',\n",
    "                 'EST3' : 'I worry about things',\n",
    "                 'EST4' : 'I seldom feel blue',\n",
    "                 'EST5' : 'I am easily disturbed',\n",
    "                 'EST6' : 'I get upset easily',\n",
    "                 'EST7' : 'I change my mood a lot',\n",
    "                 'EST8' : 'I have frequent mood swings',\n",
    "                 'EST9' : 'I get irritated easily',\n",
    "                 'EST10': 'I often feel blue'}\n",
    "\n",
    "agr_questions = {'AGR1' : 'I feel little concern for others',\n",
    "                 'AGR2' : 'I am interested in people',\n",
    "                 'AGR3' : 'I insult people',\n",
    "                 'AGR4' : 'I sympathize with others feelings',\n",
    "                 'AGR5' : 'I am not interested in other peoples problems',\n",
    "                 'AGR6' : 'I have a soft heart',\n",
    "                 'AGR7' : 'I am not really interested in others',\n",
    "                 'AGR8' : 'I take time out for others',\n",
    "                 'AGR9' : 'I feel others emotions',\n",
    "                 'AGR10': 'I make people feel at ease'}\n",
    "\n",
    "csn_questions = {'CSN1' : 'I am always prepared',\n",
    "                 'CSN2' : 'I leave my belongings around',\n",
    "                 'CSN3' : 'I pay attention to details',\n",
    "                 'CSN4' : 'I make a mess of things',\n",
    "                 'CSN5' : 'I get chores done right away',\n",
    "                 'CSN6' : 'I often forget to put things back in their proper place',\n",
    "                 'CSN7' : 'I like order',\n",
    "                 'CSN8' : 'I shirk my duties',\n",
    "                 'CSN9' : 'I follow a schedule',\n",
    "                 'CSN10' : 'I am exacting in my work'}\n",
    "\n",
    "opn_questions = {'OPN1' : 'I have a rich vocabulary',\n",
    "                 'OPN2' : 'I have difficulty understanding abstract ideas',\n",
    "                 'OPN3' : 'I have a vivid imagination',\n",
    "                 'OPN4' : 'I am not interested in abstract ideas',\n",
    "                 'OPN5' : 'I have excellent ideas',\n",
    "                 'OPN6' : 'I do not have a good imagination',\n",
    "                 'OPN7' : 'I am quick to understand things',\n",
    "                 'OPN8' : 'I use difficult words',\n",
    "                 'OPN9' : 'I spend time reflecting on things',\n",
    "                 'OPN10': 'I am full of ideas'}\n"
   ]
  },
  {
   "cell_type": "code",
   "execution_count": 50,
   "metadata": {},
   "outputs": [
    {
     "name": "stdout",
     "output_type": "stream",
     "text": [
      "    EXT1  EXT2  EXT3  EXT4  EXT5  EXT6  EXT7  EXT8  EXT9  EXT10  ...  EST5  \\\n",
      "0    3.0   3.0   4.0   2.0   4.0   3.0   3.0   3.0   3.0    2.0  ...   3.0   \n",
      "1    5.0   1.0   5.0   1.0   5.0   1.0   5.0   1.0   5.0    1.0  ...   5.0   \n",
      "2    3.0   2.0   3.0   2.0   3.0   3.0   3.0   3.0   3.0    3.0  ...   4.0   \n",
      "3    3.0   4.0   4.0   3.0   3.0   3.0   3.0   3.0   3.0    3.0  ...   3.0   \n",
      "4    5.0   3.0   3.0   3.0   3.0   3.0   3.0   3.0   3.0    3.0  ...   3.0   \n",
      "5    3.0   2.0   3.0   3.0   2.0   2.0   2.0   2.0   2.0    2.0  ...   4.0   \n",
      "6    4.0   4.0   4.0   2.0   4.0   3.0   4.0   4.0   4.0    4.0  ...   4.0   \n",
      "7    3.0   2.0   4.0   1.0   3.0   3.0   3.0   3.0   3.0    3.0  ...   3.0   \n",
      "8    3.0   2.0   4.0   3.0   3.0   3.0   4.0   3.0   3.0    3.0  ...   4.0   \n",
      "9    3.0   2.0   5.0   2.0   3.0   2.0   3.0   3.0   3.0    3.0  ...   3.0   \n",
      "10   5.0   1.0   5.0   1.0   5.0   1.0   5.0   3.0   3.0    3.0  ...   5.0   \n",
      "11   3.0   3.0   2.0   4.0   4.0   3.0   3.0   3.0   3.0    3.0  ...   3.0   \n",
      "12   1.0   1.0   2.0   2.0   4.0   2.0   5.0   2.0   3.0    3.0  ...   4.0   \n",
      "13   2.0   2.0   4.0   3.0   2.0   1.0   5.0   3.0   3.0    3.0  ...   3.0   \n",
      "14   3.0   4.0   3.0   3.0   2.0   3.0   3.0   3.0   3.0    3.0  ...   3.0   \n",
      "15   3.0   4.0   4.0   3.0   4.0   4.0   4.0   4.0   4.0    4.0  ...   4.0   \n",
      "16   3.0   3.0   3.0   3.0   3.0   3.0   2.0   3.0   3.0    3.0  ...   3.0   \n",
      "17   2.0   3.0   4.0   3.0   4.0   3.0   2.0   3.0   3.0    3.0  ...   4.0   \n",
      "18   3.0   3.0   4.0   3.0   3.0   3.0   3.0   3.0   3.0    3.0  ...   4.0   \n",
      "19   3.0   1.0   4.0   3.0   3.0   3.0   3.0   4.0   3.0    4.0  ...   3.0   \n",
      "20   4.0   2.0   4.0   2.0   4.0   2.0   5.0   2.0   3.0    3.0  ...   4.0   \n",
      "21   1.0   1.0   5.0   3.0   5.0   3.0   3.0   5.0   1.0    1.0  ...   5.0   \n",
      "\n",
      "    EST6  EST7  EST8  EST9  EST10   Age  Gender  \\\n",
      "0    3.0   4.0   3.0   4.0    3.0  49.0  Female   \n",
      "1    5.0   5.0   3.0   5.0    5.0  19.0    Male   \n",
      "2    2.0   4.0   3.0   3.0    3.0  36.0    Male   \n",
      "3    3.0   3.0   3.0   3.0    3.0  49.0    Male   \n",
      "4    2.0   4.0   3.0   3.0    3.0  51.0    Male   \n",
      "5    5.0   5.0   4.0   4.0    4.0  21.0  Female   \n",
      "6    2.0   4.0   3.0   3.0    3.0  53.0    Male   \n",
      "7    1.0   4.0   2.0   2.0    2.0  43.0    Male   \n",
      "8    2.0   4.0   3.0   3.0    3.0  51.0    Male   \n",
      "9    3.0   4.0   3.0   3.0    3.0  51.0    Male   \n",
      "10   2.0   5.0   3.0   3.0    3.0  51.0    Male   \n",
      "11   1.0   4.0   4.0   4.0    4.0  51.0    Male   \n",
      "12   2.0   4.0   4.0   4.0    4.0  53.0    Male   \n",
      "13   4.0   5.0   4.0   4.0    4.0  44.0  Female   \n",
      "14   2.0   4.0   3.0   3.0    3.0  52.0    Male   \n",
      "15   2.0   5.0   3.0   3.0    3.0  45.0  Female   \n",
      "16   2.0   2.0   2.0   2.0    2.0  45.0  Female   \n",
      "17   2.0   4.0   3.0   3.0    3.0  50.0    Male   \n",
      "18   2.0   5.0   3.0   3.0    3.0  51.0    Male   \n",
      "19   3.0   3.0   3.0   4.0    3.0  24.0    Male   \n",
      "20   2.0   4.0   4.0   3.0    4.0  47.0    Male   \n",
      "21   3.0   5.0   5.0   5.0    5.0  51.0    Male   \n",
      "\n",
      "                         Job Domain:  Job satisfaction   \n",
      "0     Education, Training, & Library                4.0  \n",
      "1             Computer & Mathematics                5.0  \n",
      "2     Education, Training, & Library                3.0  \n",
      "3                         Management                3.0  \n",
      "4                         Management                4.0  \n",
      "5                   Sales & Related.                5.0  \n",
      "6    Business & Financial Operations                5.0  \n",
      "7     Education, Training, & Library                5.0  \n",
      "8                         Management                4.0  \n",
      "9                         Management                5.0  \n",
      "10  Transportation & Material Moving                5.0  \n",
      "11  Life, Physical, & Social Science                1.0  \n",
      "12                        Management                3.0  \n",
      "13                  Sales & Related.                1.0  \n",
      "14    Education, Training, & Library                5.0  \n",
      "15   Business & Financial Operations                5.0  \n",
      "16    Education, Training, & Library                3.0  \n",
      "17    Education, Training, & Library                4.0  \n",
      "18            Computer & Mathematics                5.0  \n",
      "19         Construction & Extraction                3.0  \n",
      "20   Business & Financial Operations                5.0  \n",
      "21  Transportation & Material Moving                5.0  \n",
      "\n",
      "[22 rows x 54 columns]\n"
     ]
    }
   ],
   "source": [
    "og_cols = data.columns.tolist()\n",
    "og_cols[:50] = keepColumns\n",
    "data.columns = og_cols\n",
    "data = data[:22]\n",
    "print(data)\n",
    "data.to_csv(\"modified.csv\", index=False)\n"
   ]
  },
  {
   "cell_type": "code",
   "execution_count": 95,
   "metadata": {},
   "outputs": [
    {
     "name": "stderr",
     "output_type": "stream",
     "text": [
      "C:\\Users\\Krishna Kumar\\AppData\\Roaming\\Python\\Python311\\site-packages\\sklearn\\cluster\\_kmeans.py:1416: FutureWarning: The default value of `n_init` will change from 10 to 'auto' in 1.4. Set the value of `n_init` explicitly to suppress the warning\n",
      "  super()._check_params_vs_input(X, default_n_init=10)\n"
     ]
    },
    {
     "name": "stdout",
     "output_type": "stream",
     "text": [
      "{4: 'Computer & Mathematics', 18: 'Computer & Mathematics', 13: 'Sales & Related.', 1: 'Management', 14: 'Management', 19: 'Education, Training, & Library', 21: 'Sales & Related.', 10: 'Transportation & Material Moving', 16: 'Life, Physical, & Social Science', 6: 'Business & Financial Operations', 8: 'Business & Financial Operations', 12: 'Education, Training, & Library', 17: 'Construction & Extraction', 0: 'Transportation & Material Moving'}\n",
      "<class 'dict_keys'>\n",
      "0                  Computer & Mathematics\n",
      "1                  Computer & Mathematics\n",
      "2                        Sales & Related.\n",
      "3                              Management\n",
      "4                        Sales & Related.\n",
      "                       ...               \n",
      "50002                                None\n",
      "50003                                None\n",
      "1500      Business & Financial Operations\n",
      "1793     Transportation & Material Moving\n",
      "4030                     Sales & Related.\n",
      "Name: Job Domain:, Length: 50003, dtype: object\n"
     ]
    }
   ],
   "source": [
    "import pandas as pd\n",
    "\n",
    "# Assuming 'dataset' and 'data' are DataFrames\n",
    "\n",
    "subset = dataset.iloc[:50000, :].copy()\n",
    "\n",
    "# Select features for clustering (assuming no \"Job Domain:\" column initially)\n",
    "features = subset\n",
    "\n",
    "# Perform KMeans clustering\n",
    "kmeans = KMeans(n_clusters=len(data[\"Job Domain:\"])).fit(features)\n",
    "indexes = list(kmeans.labels_);\n",
    "#print(indexes)\n",
    "\n",
    "\n",
    "# Map cluster labels to original labels from the 'data' DataFrame\n",
    "label_mapping = dict(zip(kmeans.labels_, data[\"Job Domain:\"]))\n",
    "print(label_mapping)\n",
    "\n",
    "# Create a new column in 'subset' to store original labels\n",
    "subset[\"Job Domain:\"] = None  # Initialize with empty values\n",
    "\n",
    "# Assign original labels using the mapping\n",
    "keys_list = list(label_mapping.keys())\n",
    "print(type(keys_list))\n",
    "for i in range(len(subset)):\n",
    "    if(indexes[i] in keys_list):\n",
    "        subset.loc[i, \"Job Domain:\"] = label_mapping[indexes[i]]\n",
    "\n",
    "# Print the final labels (optional)\n",
    "print(subset[\"Job Domain:\"])\n",
    "\n",
    "# Save the final dataset\n",
    "subset.to_csv(\"final_dataset.csv\", index=False)\n"
   ]
  },
  {
   "cell_type": "code",
   "execution_count": null,
   "metadata": {},
   "outputs": [],
   "source": []
  }
 ],
 "metadata": {
  "kernelspec": {
   "display_name": "Python 3",
   "language": "python",
   "name": "python3"
  },
  "language_info": {
   "codemirror_mode": {
    "name": "ipython",
    "version": 3
   },
   "file_extension": ".py",
   "mimetype": "text/x-python",
   "name": "python",
   "nbconvert_exporter": "python",
   "pygments_lexer": "ipython3",
   "version": "3.11.5"
  }
 },
 "nbformat": 4,
 "nbformat_minor": 2
}
